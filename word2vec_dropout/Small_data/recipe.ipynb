{
 "cells": [
  {
   "cell_type": "code",
   "execution_count": 221,
   "metadata": {
    "ExecuteTime": {
     "end_time": "2020-07-28T06:47:31.721134Z",
     "start_time": "2020-07-28T06:47:31.715435Z"
    }
   },
   "outputs": [],
   "source": [
    "import Dataset\n",
    "\n",
    "import importlib\n",
    "import csv\n",
    "\n",
    "import numpy as np\n",
    "import random\n",
    "\n",
    "import torch\n",
    "import torch.nn as nn\n",
    "import torch.nn.functional as F\n",
    "import torch.utils.data as data\n",
    "import torch.optim as optim\n",
    "\n",
    "import matplotlib.pyplot as plt\n",
    "import pandas as pd\n",
    "\n",
    "Dataset = importlib.reload(Dataset)"
   ]
  },
  {
   "cell_type": "markdown",
   "metadata": {},
   "source": [
    "# Dataset"
   ]
  },
  {
   "cell_type": "code",
   "execution_count": 2,
   "metadata": {
    "ExecuteTime": {
     "end_time": "2020-07-28T00:36:37.665750Z",
     "start_time": "2020-07-28T00:36:37.616610Z"
    }
   },
   "outputs": [],
   "source": [
    "all_things = Dataset.get_recipe(Dataset.path)"
   ]
  },
  {
   "cell_type": "code",
   "execution_count": 3,
   "metadata": {
    "ExecuteTime": {
     "end_time": "2020-07-28T00:36:38.584101Z",
     "start_time": "2020-07-28T00:36:38.555750Z"
    }
   },
   "outputs": [],
   "source": [
    "name2idx, idx2name = Dataset.get_all_name(all_things)"
   ]
  },
  {
   "cell_type": "code",
   "execution_count": 4,
   "metadata": {
    "ExecuteTime": {
     "end_time": "2020-07-28T00:36:39.252072Z",
     "start_time": "2020-07-28T00:36:39.184737Z"
    }
   },
   "outputs": [],
   "source": [
    "# map the name list to an idx list\n",
    "idx_list = list(map(lambda names:list(map(lambda name:name2idx[name], names)), all_things))"
   ]
  },
  {
   "cell_type": "code",
   "execution_count": 5,
   "metadata": {
    "ExecuteTime": {
     "end_time": "2020-07-28T00:36:40.411986Z",
     "start_time": "2020-07-28T00:36:40.397670Z"
    }
   },
   "outputs": [],
   "source": [
    "rdata=Dataset.recipe_data(idx_list)"
   ]
  },
  {
   "cell_type": "code",
   "execution_count": 6,
   "metadata": {
    "ExecuteTime": {
     "end_time": "2020-07-28T00:36:41.202771Z",
     "start_time": "2020-07-28T00:36:41.195952Z"
    }
   },
   "outputs": [
    {
     "data": {
      "text/plain": [
       "(tensor([84, 84, 84, 84, 84, 84, 84, 84, 84, 84, 84, 84, 84, 84, 84]),\n",
       " tensor([ 47, 174,  86, 334, 206, 316, 242, 343,  31, 217, 128,  17,  65, 187,\n",
       "         195]),\n",
       " tensor([[159, 223],\n",
       "         [ 88, 101],\n",
       "         [206, 117],\n",
       "         [149,  47],\n",
       "         [260, 181],\n",
       "         [334, 334],\n",
       "         [324, 128],\n",
       "         [334, 125],\n",
       "         [211, 216],\n",
       "         [324, 280],\n",
       "         [317, 228],\n",
       "         [334, 327],\n",
       "         [ 75, 206],\n",
       "         [304,  64],\n",
       "         [334, 126]]))"
      ]
     },
     "execution_count": 6,
     "metadata": {},
     "output_type": "execute_result"
    }
   ],
   "source": [
    "rdata[3]"
   ]
  },
  {
   "cell_type": "markdown",
   "metadata": {},
   "source": [
    "# Model"
   ]
  },
  {
   "cell_type": "code",
   "execution_count": 7,
   "metadata": {
    "ExecuteTime": {
     "end_time": "2020-07-28T00:36:43.814778Z",
     "start_time": "2020-07-28T00:36:43.810186Z"
    }
   },
   "outputs": [],
   "source": [
    "import SkipGram as SG\n",
    "\n",
    "SG = importlib.reload(SG)"
   ]
  },
  {
   "cell_type": "code",
   "execution_count": 189,
   "metadata": {
    "ExecuteTime": {
     "end_time": "2020-07-27T22:48:33.783423Z",
     "start_time": "2020-07-27T22:48:33.778863Z"
    }
   },
   "outputs": [],
   "source": [
    "model = SG.skipgram(vocab_size=len(name2idx), embedding_dim=25, dropout=True, p=0.5)"
   ]
  },
  {
   "cell_type": "code",
   "execution_count": 190,
   "metadata": {
    "ExecuteTime": {
     "end_time": "2020-07-27T22:48:34.692294Z",
     "start_time": "2020-07-27T22:48:34.688126Z"
    }
   },
   "outputs": [],
   "source": [
    "dataloader = data.DataLoader(rdata, batch_size=4, shuffle=True, collate_fn=SG.cf)"
   ]
  },
  {
   "cell_type": "code",
   "execution_count": 211,
   "metadata": {
    "ExecuteTime": {
     "end_time": "2020-07-27T22:58:17.668299Z",
     "start_time": "2020-07-27T22:58:17.650632Z"
    }
   },
   "outputs": [],
   "source": [
    "u, v, n = next(iter(dataloader))"
   ]
  },
  {
   "cell_type": "code",
   "execution_count": 215,
   "metadata": {
    "ExecuteTime": {
     "end_time": "2020-07-27T22:58:37.675737Z",
     "start_time": "2020-07-27T22:58:37.668722Z"
    }
   },
   "outputs": [
    {
     "data": {
      "text/plain": [
       "tensor(1.3863, device='cuda:0', grad_fn=<DivBackward0>)"
      ]
     },
     "execution_count": 215,
     "metadata": {},
     "output_type": "execute_result"
    }
   ],
   "source": [
    "model(u_pos=u.cuda(), v_pos=v.cuda(), v_neg=n.cuda(), batch_size=len(u))"
   ]
  },
  {
   "cell_type": "markdown",
   "metadata": {},
   "source": [
    "# Train"
   ]
  },
  {
   "cell_type": "code",
   "execution_count": 8,
   "metadata": {
    "ExecuteTime": {
     "end_time": "2020-07-28T00:36:47.861564Z",
     "start_time": "2020-07-28T00:36:47.582658Z"
    }
   },
   "outputs": [],
   "source": [
    "import wandb\n",
    "\n",
    "class Reporter:\n",
    "    def __init__(self, dt):\n",
    "        self.dt = dt\n",
    "        self.loss_count = {}\n",
    "        self.k = 0.0\n",
    "    \n",
    "    def report(self):\n",
    "        if self.k > 0:\n",
    "            for k in self.loss_count.keys():\n",
    "                self.loss_count[k] /= self.k\n",
    "            wandb.log(self.loss_count)\n",
    "    \n",
    "    def step(self, loss_dict):\n",
    "        self.k += 1\n",
    "        for k, v in loss_dict.items():\n",
    "            if not (k in self.loss_count):\n",
    "                self.loss_count[k] = 0.0\n",
    "            self.loss_count[k] += v\n",
    "        if self.k >= self.dt:\n",
    "            self.report()\n",
    "            self.k = 0\n",
    "            for k in self.loss_count.keys():\n",
    "                self.loss_count[k] = 0.0"
   ]
  },
  {
   "cell_type": "code",
   "execution_count": 9,
   "metadata": {
    "ExecuteTime": {
     "end_time": "2020-07-28T00:36:48.655512Z",
     "start_time": "2020-07-28T00:36:48.648642Z"
    }
   },
   "outputs": [],
   "source": [
    "import os\n",
    "\n",
    "def train(net, training_data, optimizer, epco, dt):\n",
    "    wandb.init(config=args, project=\"Skip-gram Dropout (Recipe)\")\n",
    "    #wandb.config[\"more\"] = f\"rule {110}\"\n",
    "\n",
    "    reporter = Reporter(dt)\n",
    "    net.train()\n",
    "    scheduler=torch.optim.lr_scheduler.StepLR(optimizer, step_size=30, gamma=0.5)\n",
    "    \n",
    "    for i in range(epco):\n",
    "        t = 0\n",
    "        for u,v,n in training_data:\n",
    "            t += 1\n",
    "            optimizer.zero_grad()\n",
    "            if torch.cuda.is_available():\n",
    "                u = u.cuda()\n",
    "                v = v.cuda()\n",
    "                n = n.cuda()\n",
    "            \n",
    "            loss = net(u_pos=u, v_pos=v, v_neg=n, batch_size=len(u))\n",
    "            \n",
    "            loss.backward()\n",
    "            optimizer.step()\n",
    "            reporter.step({'loss':loss.cpu().item(), 'epco':i+t/len(training_data)}) # report to wandb\n",
    "        #scheduler.step()\n",
    "    net.eval()\n",
    "    net.cpu()\n",
    "    torch.save(net, os.path.join(wandb.run.dir, 'model.pth'))\n",
    "    return net"
   ]
  },
  {
   "cell_type": "code",
   "execution_count": 10,
   "metadata": {
    "ExecuteTime": {
     "end_time": "2020-07-28T00:39:27.279304Z",
     "start_time": "2020-07-28T00:36:51.131331Z"
    },
    "scrolled": true
   },
   "outputs": [
    {
     "data": {
      "text/html": [
       "\n",
       "                Logging results to <a href=\"https://wandb.com\" target=\"_blank\">Weights & Biases</a> <a href=\"https://docs.wandb.com/integrations/jupyter.html\" target=\"_blank\">(Documentation)</a>.<br/>\n",
       "                Project page: <a href=\"https://app.wandb.ai/yanbozhang/Skip-gram%20Dropout%20%28Recipe%29\" target=\"_blank\">https://app.wandb.ai/yanbozhang/Skip-gram%20Dropout%20%28Recipe%29</a><br/>\n",
       "                Run page: <a href=\"https://app.wandb.ai/yanbozhang/Skip-gram%20Dropout%20%28Recipe%29/runs/2nxmo6ff\" target=\"_blank\">https://app.wandb.ai/yanbozhang/Skip-gram%20Dropout%20%28Recipe%29/runs/2nxmo6ff</a><br/>\n",
       "            "
      ],
      "text/plain": [
       "<IPython.core.display.HTML object>"
      ]
     },
     "metadata": {},
     "output_type": "display_data"
    },
    {
     "name": "stderr",
     "output_type": "stream",
     "text": [
      "Failed to query for notebook name, you can set it manually with the WANDB_NOTEBOOK_NAME environment variable\n",
      "wandb: Wandb version 0.9.4 is available!  To upgrade, please run:\n",
      "wandb:  $ pip install wandb --upgrade\n"
     ]
    },
    {
     "ename": "KeyboardInterrupt",
     "evalue": "",
     "output_type": "error",
     "traceback": [
      "\u001b[0;31m---------------------------------------------------------------------------\u001b[0m",
      "\u001b[0;31mKeyboardInterrupt\u001b[0m                         Traceback (most recent call last)",
      "\u001b[0;32m<ipython-input-10-1dbc45ddb7e1>\u001b[0m in \u001b[0;36m<module>\u001b[0;34m\u001b[0m\n\u001b[1;32m      7\u001b[0m \u001b[0;34m\u001b[0m\u001b[0m\n\u001b[1;32m      8\u001b[0m \u001b[0mtraining_data\u001b[0m \u001b[0;34m=\u001b[0m \u001b[0mdata\u001b[0m\u001b[0;34m.\u001b[0m\u001b[0mDataLoader\u001b[0m\u001b[0;34m(\u001b[0m\u001b[0mrdata\u001b[0m\u001b[0;34m,\u001b[0m \u001b[0mbatch_size\u001b[0m\u001b[0;34m=\u001b[0m\u001b[0margs\u001b[0m\u001b[0;34m[\u001b[0m\u001b[0;34m'batch_size'\u001b[0m\u001b[0;34m]\u001b[0m\u001b[0;34m,\u001b[0m \u001b[0mshuffle\u001b[0m\u001b[0;34m=\u001b[0m\u001b[0;32mTrue\u001b[0m\u001b[0;34m,\u001b[0m \u001b[0mcollate_fn\u001b[0m\u001b[0;34m=\u001b[0m\u001b[0mSG\u001b[0m\u001b[0;34m.\u001b[0m\u001b[0mcf\u001b[0m\u001b[0;34m)\u001b[0m\u001b[0;34m\u001b[0m\u001b[0;34m\u001b[0m\u001b[0m\n\u001b[0;32m----> 9\u001b[0;31m \u001b[0mtrain\u001b[0m\u001b[0;34m(\u001b[0m\u001b[0mmodel\u001b[0m\u001b[0;34m,\u001b[0m \u001b[0mtraining_data\u001b[0m\u001b[0;34m,\u001b[0m \u001b[0mopt\u001b[0m\u001b[0;34m,\u001b[0m \u001b[0margs\u001b[0m\u001b[0;34m[\u001b[0m\u001b[0;34m'epco'\u001b[0m\u001b[0;34m]\u001b[0m\u001b[0;34m,\u001b[0m \u001b[0;36m250\u001b[0m\u001b[0;34m)\u001b[0m\u001b[0;34m\u001b[0m\u001b[0;34m\u001b[0m\u001b[0m\n\u001b[0m",
      "\u001b[0;32m<ipython-input-9-b11c549b7f52>\u001b[0m in \u001b[0;36mtrain\u001b[0;34m(net, training_data, optimizer, epco, dt)\u001b[0m\n\u001b[1;32m     11\u001b[0m     \u001b[0;32mfor\u001b[0m \u001b[0mi\u001b[0m \u001b[0;32min\u001b[0m \u001b[0mrange\u001b[0m\u001b[0;34m(\u001b[0m\u001b[0mepco\u001b[0m\u001b[0;34m)\u001b[0m\u001b[0;34m:\u001b[0m\u001b[0;34m\u001b[0m\u001b[0;34m\u001b[0m\u001b[0m\n\u001b[1;32m     12\u001b[0m         \u001b[0mt\u001b[0m \u001b[0;34m=\u001b[0m \u001b[0;36m0\u001b[0m\u001b[0;34m\u001b[0m\u001b[0;34m\u001b[0m\u001b[0m\n\u001b[0;32m---> 13\u001b[0;31m         \u001b[0;32mfor\u001b[0m \u001b[0mu\u001b[0m\u001b[0;34m,\u001b[0m\u001b[0mv\u001b[0m\u001b[0;34m,\u001b[0m\u001b[0mn\u001b[0m \u001b[0;32min\u001b[0m \u001b[0mtraining_data\u001b[0m\u001b[0;34m:\u001b[0m\u001b[0;34m\u001b[0m\u001b[0;34m\u001b[0m\u001b[0m\n\u001b[0m\u001b[1;32m     14\u001b[0m             \u001b[0mt\u001b[0m \u001b[0;34m+=\u001b[0m \u001b[0;36m1\u001b[0m\u001b[0;34m\u001b[0m\u001b[0;34m\u001b[0m\u001b[0m\n\u001b[1;32m     15\u001b[0m             \u001b[0moptimizer\u001b[0m\u001b[0;34m.\u001b[0m\u001b[0mzero_grad\u001b[0m\u001b[0;34m(\u001b[0m\u001b[0;34m)\u001b[0m\u001b[0;34m\u001b[0m\u001b[0;34m\u001b[0m\u001b[0m\n",
      "\u001b[0;32m~/anaconda3/lib/python3.7/site-packages/torch/utils/data/dataloader.py\u001b[0m in \u001b[0;36m__next__\u001b[0;34m(self)\u001b[0m\n\u001b[1;32m    343\u001b[0m \u001b[0;34m\u001b[0m\u001b[0m\n\u001b[1;32m    344\u001b[0m     \u001b[0;32mdef\u001b[0m \u001b[0m__next__\u001b[0m\u001b[0;34m(\u001b[0m\u001b[0mself\u001b[0m\u001b[0;34m)\u001b[0m\u001b[0;34m:\u001b[0m\u001b[0;34m\u001b[0m\u001b[0;34m\u001b[0m\u001b[0m\n\u001b[0;32m--> 345\u001b[0;31m         \u001b[0mdata\u001b[0m \u001b[0;34m=\u001b[0m \u001b[0mself\u001b[0m\u001b[0;34m.\u001b[0m\u001b[0m_next_data\u001b[0m\u001b[0;34m(\u001b[0m\u001b[0;34m)\u001b[0m\u001b[0;34m\u001b[0m\u001b[0;34m\u001b[0m\u001b[0m\n\u001b[0m\u001b[1;32m    346\u001b[0m         \u001b[0mself\u001b[0m\u001b[0;34m.\u001b[0m\u001b[0m_num_yielded\u001b[0m \u001b[0;34m+=\u001b[0m \u001b[0;36m1\u001b[0m\u001b[0;34m\u001b[0m\u001b[0;34m\u001b[0m\u001b[0m\n\u001b[1;32m    347\u001b[0m         \u001b[0;32mif\u001b[0m \u001b[0mself\u001b[0m\u001b[0;34m.\u001b[0m\u001b[0m_dataset_kind\u001b[0m \u001b[0;34m==\u001b[0m \u001b[0m_DatasetKind\u001b[0m\u001b[0;34m.\u001b[0m\u001b[0mIterable\u001b[0m \u001b[0;32mand\u001b[0m\u001b[0;31m \u001b[0m\u001b[0;31m\\\u001b[0m\u001b[0;34m\u001b[0m\u001b[0;34m\u001b[0m\u001b[0m\n",
      "\u001b[0;32m~/anaconda3/lib/python3.7/site-packages/torch/utils/data/dataloader.py\u001b[0m in \u001b[0;36m_next_data\u001b[0;34m(self)\u001b[0m\n\u001b[1;32m    383\u001b[0m     \u001b[0;32mdef\u001b[0m \u001b[0m_next_data\u001b[0m\u001b[0;34m(\u001b[0m\u001b[0mself\u001b[0m\u001b[0;34m)\u001b[0m\u001b[0;34m:\u001b[0m\u001b[0;34m\u001b[0m\u001b[0;34m\u001b[0m\u001b[0m\n\u001b[1;32m    384\u001b[0m         \u001b[0mindex\u001b[0m \u001b[0;34m=\u001b[0m \u001b[0mself\u001b[0m\u001b[0;34m.\u001b[0m\u001b[0m_next_index\u001b[0m\u001b[0;34m(\u001b[0m\u001b[0;34m)\u001b[0m  \u001b[0;31m# may raise StopIteration\u001b[0m\u001b[0;34m\u001b[0m\u001b[0;34m\u001b[0m\u001b[0m\n\u001b[0;32m--> 385\u001b[0;31m         \u001b[0mdata\u001b[0m \u001b[0;34m=\u001b[0m \u001b[0mself\u001b[0m\u001b[0;34m.\u001b[0m\u001b[0m_dataset_fetcher\u001b[0m\u001b[0;34m.\u001b[0m\u001b[0mfetch\u001b[0m\u001b[0;34m(\u001b[0m\u001b[0mindex\u001b[0m\u001b[0;34m)\u001b[0m  \u001b[0;31m# may raise StopIteration\u001b[0m\u001b[0;34m\u001b[0m\u001b[0;34m\u001b[0m\u001b[0m\n\u001b[0m\u001b[1;32m    386\u001b[0m         \u001b[0;32mif\u001b[0m \u001b[0mself\u001b[0m\u001b[0;34m.\u001b[0m\u001b[0m_pin_memory\u001b[0m\u001b[0;34m:\u001b[0m\u001b[0;34m\u001b[0m\u001b[0;34m\u001b[0m\u001b[0m\n\u001b[1;32m    387\u001b[0m             \u001b[0mdata\u001b[0m \u001b[0;34m=\u001b[0m \u001b[0m_utils\u001b[0m\u001b[0;34m.\u001b[0m\u001b[0mpin_memory\u001b[0m\u001b[0;34m.\u001b[0m\u001b[0mpin_memory\u001b[0m\u001b[0;34m(\u001b[0m\u001b[0mdata\u001b[0m\u001b[0;34m)\u001b[0m\u001b[0;34m\u001b[0m\u001b[0;34m\u001b[0m\u001b[0m\n",
      "\u001b[0;32m~/anaconda3/lib/python3.7/site-packages/torch/utils/data/_utils/fetch.py\u001b[0m in \u001b[0;36mfetch\u001b[0;34m(self, possibly_batched_index)\u001b[0m\n\u001b[1;32m     42\u001b[0m     \u001b[0;32mdef\u001b[0m \u001b[0mfetch\u001b[0m\u001b[0;34m(\u001b[0m\u001b[0mself\u001b[0m\u001b[0;34m,\u001b[0m \u001b[0mpossibly_batched_index\u001b[0m\u001b[0;34m)\u001b[0m\u001b[0;34m:\u001b[0m\u001b[0;34m\u001b[0m\u001b[0;34m\u001b[0m\u001b[0m\n\u001b[1;32m     43\u001b[0m         \u001b[0;32mif\u001b[0m \u001b[0mself\u001b[0m\u001b[0;34m.\u001b[0m\u001b[0mauto_collation\u001b[0m\u001b[0;34m:\u001b[0m\u001b[0;34m\u001b[0m\u001b[0;34m\u001b[0m\u001b[0m\n\u001b[0;32m---> 44\u001b[0;31m             \u001b[0mdata\u001b[0m \u001b[0;34m=\u001b[0m \u001b[0;34m[\u001b[0m\u001b[0mself\u001b[0m\u001b[0;34m.\u001b[0m\u001b[0mdataset\u001b[0m\u001b[0;34m[\u001b[0m\u001b[0midx\u001b[0m\u001b[0;34m]\u001b[0m \u001b[0;32mfor\u001b[0m \u001b[0midx\u001b[0m \u001b[0;32min\u001b[0m \u001b[0mpossibly_batched_index\u001b[0m\u001b[0;34m]\u001b[0m\u001b[0;34m\u001b[0m\u001b[0;34m\u001b[0m\u001b[0m\n\u001b[0m\u001b[1;32m     45\u001b[0m         \u001b[0;32melse\u001b[0m\u001b[0;34m:\u001b[0m\u001b[0;34m\u001b[0m\u001b[0;34m\u001b[0m\u001b[0m\n\u001b[1;32m     46\u001b[0m             \u001b[0mdata\u001b[0m \u001b[0;34m=\u001b[0m \u001b[0mself\u001b[0m\u001b[0;34m.\u001b[0m\u001b[0mdataset\u001b[0m\u001b[0;34m[\u001b[0m\u001b[0mpossibly_batched_index\u001b[0m\u001b[0;34m]\u001b[0m\u001b[0;34m\u001b[0m\u001b[0;34m\u001b[0m\u001b[0m\n",
      "\u001b[0;32m~/anaconda3/lib/python3.7/site-packages/torch/utils/data/_utils/fetch.py\u001b[0m in \u001b[0;36m<listcomp>\u001b[0;34m(.0)\u001b[0m\n\u001b[1;32m     42\u001b[0m     \u001b[0;32mdef\u001b[0m \u001b[0mfetch\u001b[0m\u001b[0;34m(\u001b[0m\u001b[0mself\u001b[0m\u001b[0;34m,\u001b[0m \u001b[0mpossibly_batched_index\u001b[0m\u001b[0;34m)\u001b[0m\u001b[0;34m:\u001b[0m\u001b[0;34m\u001b[0m\u001b[0;34m\u001b[0m\u001b[0m\n\u001b[1;32m     43\u001b[0m         \u001b[0;32mif\u001b[0m \u001b[0mself\u001b[0m\u001b[0;34m.\u001b[0m\u001b[0mauto_collation\u001b[0m\u001b[0;34m:\u001b[0m\u001b[0;34m\u001b[0m\u001b[0;34m\u001b[0m\u001b[0m\n\u001b[0;32m---> 44\u001b[0;31m             \u001b[0mdata\u001b[0m \u001b[0;34m=\u001b[0m \u001b[0;34m[\u001b[0m\u001b[0mself\u001b[0m\u001b[0;34m.\u001b[0m\u001b[0mdataset\u001b[0m\u001b[0;34m[\u001b[0m\u001b[0midx\u001b[0m\u001b[0;34m]\u001b[0m \u001b[0;32mfor\u001b[0m \u001b[0midx\u001b[0m \u001b[0;32min\u001b[0m \u001b[0mpossibly_batched_index\u001b[0m\u001b[0;34m]\u001b[0m\u001b[0;34m\u001b[0m\u001b[0;34m\u001b[0m\u001b[0m\n\u001b[0m\u001b[1;32m     45\u001b[0m         \u001b[0;32melse\u001b[0m\u001b[0;34m:\u001b[0m\u001b[0;34m\u001b[0m\u001b[0;34m\u001b[0m\u001b[0m\n\u001b[1;32m     46\u001b[0m             \u001b[0mdata\u001b[0m \u001b[0;34m=\u001b[0m \u001b[0mself\u001b[0m\u001b[0;34m.\u001b[0m\u001b[0mdataset\u001b[0m\u001b[0;34m[\u001b[0m\u001b[0mpossibly_batched_index\u001b[0m\u001b[0;34m]\u001b[0m\u001b[0;34m\u001b[0m\u001b[0;34m\u001b[0m\u001b[0m\n",
      "\u001b[0;32m~/Research/WordEmbedding_Dropout/Small_data/Dataset.py\u001b[0m in \u001b[0;36m__getitem__\u001b[0;34m(self, index)\u001b[0m\n\u001b[1;32m     70\u001b[0m         \u001b[0mcontext\u001b[0m \u001b[0;34m=\u001b[0m \u001b[0mself\u001b[0m\u001b[0;34m.\u001b[0m\u001b[0mcontext\u001b[0m\u001b[0;34m(\u001b[0m\u001b[0mself\u001b[0m\u001b[0;34m.\u001b[0m\u001b[0mraw\u001b[0m\u001b[0;34m[\u001b[0m\u001b[0mindex\u001b[0m\u001b[0;34m]\u001b[0m\u001b[0;34m,\u001b[0m \u001b[0mcenter_id\u001b[0m\u001b[0;34m)\u001b[0m\u001b[0;34m\u001b[0m\u001b[0;34m\u001b[0m\u001b[0m\n\u001b[1;32m     71\u001b[0m         \u001b[0;31m# negative samples\u001b[0m\u001b[0;34m\u001b[0m\u001b[0;34m\u001b[0m\u001b[0;34m\u001b[0m\u001b[0m\n\u001b[0;32m---> 72\u001b[0;31m         \u001b[0mneg\u001b[0m \u001b[0;34m=\u001b[0m \u001b[0mself\u001b[0m\u001b[0;34m.\u001b[0m\u001b[0mneg_sample\u001b[0m\u001b[0;34m(\u001b[0m\u001b[0mself\u001b[0m\u001b[0;34m.\u001b[0m\u001b[0mneg_size\u001b[0m\u001b[0;34m,\u001b[0m \u001b[0mlen\u001b[0m\u001b[0;34m(\u001b[0m\u001b[0mcenter\u001b[0m\u001b[0;34m)\u001b[0m\u001b[0;34m)\u001b[0m\u001b[0;34m\u001b[0m\u001b[0;34m\u001b[0m\u001b[0m\n\u001b[0m\u001b[1;32m     73\u001b[0m \u001b[0;34m\u001b[0m\u001b[0m\n\u001b[1;32m     74\u001b[0m         \u001b[0;32mreturn\u001b[0m \u001b[0mtorch\u001b[0m\u001b[0;34m.\u001b[0m\u001b[0mLongTensor\u001b[0m\u001b[0;34m(\u001b[0m\u001b[0mcenter\u001b[0m\u001b[0;34m)\u001b[0m\u001b[0;34m,\u001b[0m \u001b[0mtorch\u001b[0m\u001b[0;34m.\u001b[0m\u001b[0mLongTensor\u001b[0m\u001b[0;34m(\u001b[0m\u001b[0mcontext\u001b[0m\u001b[0;34m)\u001b[0m\u001b[0;34m,\u001b[0m \u001b[0mtorch\u001b[0m\u001b[0;34m.\u001b[0m\u001b[0mLongTensor\u001b[0m\u001b[0;34m(\u001b[0m\u001b[0mneg\u001b[0m\u001b[0;34m)\u001b[0m\u001b[0;34m\u001b[0m\u001b[0;34m\u001b[0m\u001b[0m\n",
      "\u001b[0;31mKeyboardInterrupt\u001b[0m: "
     ]
    }
   ],
   "source": [
    "args = {'epco':1000, 'lr':0.2, 'dim':25, 'batch_size':128}\n",
    "model = SG.skipgram(vocab_size=len(name2idx), embedding_dim=25, dropout=False, p=0.5)\n",
    "\n",
    "if torch.cuda.is_available():\n",
    "    model.cuda()\n",
    "opt = optim.SGD(model.parameters(), lr=args['lr'], weight_decay=0)\n",
    "\n",
    "training_data = data.DataLoader(rdata, batch_size=args['batch_size'], shuffle=True, collate_fn=SG.cf)\n",
    "train(model, training_data, opt, args['epco'], 250)"
   ]
  },
  {
   "cell_type": "code",
   "execution_count": 16,
   "metadata": {
    "ExecuteTime": {
     "end_time": "2020-07-28T00:40:33.839396Z",
     "start_time": "2020-07-28T00:40:33.834844Z"
    }
   },
   "outputs": [],
   "source": [
    "import json\n",
    "\n",
    "with open('idx2name.json', 'w') as f:\n",
    "    json.dump(idx2name, f)"
   ]
  },
  {
   "cell_type": "code",
   "execution_count": 74,
   "metadata": {
    "ExecuteTime": {
     "end_time": "2020-07-28T02:12:24.828862Z",
     "start_time": "2020-07-28T02:12:24.767153Z"
    }
   },
   "outputs": [
    {
     "data": {
      "image/png": "[encoded data removed]",
      "text/plain": [
       "<Figure size 432x288 with 1 Axes>"
      ]
     },
     "metadata": {
      "needs_background": "light"
     },
     "output_type": "display_data"
    }
   ],
   "source": [
    "plt.imshow(normalize(model.u_embeddings.weight.data.cpu()[:50]))\n",
    "plt.show()"
   ]
  },
  {
   "cell_type": "code",
   "execution_count": 256,
   "metadata": {
    "ExecuteTime": {
     "end_time": "2020-07-28T00:26:44.072043Z",
     "start_time": "2020-07-28T00:26:44.066741Z"
    }
   },
   "outputs": [
    {
     "data": {
      "text/plain": [
       "'butter'"
      ]
     },
     "execution_count": 256,
     "metadata": {},
     "output_type": "execute_result"
    }
   ],
   "source": [
    "idx2name[47]"
   ]
  },
  {
   "cell_type": "code",
   "execution_count": 297,
   "metadata": {
    "ExecuteTime": {
     "end_time": "2020-07-28T00:33:51.950319Z",
     "start_time": "2020-07-28T00:33:51.945888Z"
    }
   },
   "outputs": [],
   "source": [
    "target = torch.zeros(25)\n",
    "target[0] = 1"
   ]
  },
  {
   "cell_type": "code",
   "execution_count": 24,
   "metadata": {
    "ExecuteTime": {
     "end_time": "2020-07-28T01:54:13.375249Z",
     "start_time": "2020-07-28T01:54:13.370708Z"
    }
   },
   "outputs": [],
   "source": [
    "normalize = lambda x:((x**2).t() / torch.sum(x**2, dim=1)).t()\n",
    "entropy = lambda x:torch.sum(-1 * x * torch.log(x), dim=1)"
   ]
  },
  {
   "cell_type": "code",
   "execution_count": 26,
   "metadata": {
    "ExecuteTime": {
     "end_time": "2020-07-28T01:54:27.320757Z",
     "start_time": "2020-07-28T01:54:27.315863Z"
    }
   },
   "outputs": [],
   "source": [
    "H = entropy(normalize(model.u_embeddings.weight.data))"
   ]
  },
  {
   "cell_type": "code",
   "execution_count": 30,
   "metadata": {
    "ExecuteTime": {
     "end_time": "2020-07-28T01:55:09.894406Z",
     "start_time": "2020-07-28T01:55:09.800281Z"
    }
   },
   "outputs": [
    {
     "data": {
      "image/png": "[encoded data removed]",
      "text/plain": [
       "<Figure size 432x288 with 1 Axes>"
      ]
     },
     "metadata": {
      "needs_background": "light"
     },
     "output_type": "display_data"
    }
   ],
   "source": [
    "plt.hist(H.cpu())\n",
    "plt.title('Embedding Entropy')\n",
    "plt.show()"
   ]
  },
  {
   "cell_type": "code",
   "execution_count": 298,
   "metadata": {
    "ExecuteTime": {
     "end_time": "2020-07-28T00:33:54.828615Z",
     "start_time": "2020-07-28T00:33:54.823841Z"
    }
   },
   "outputs": [],
   "source": [
    "similarity = torch.cosine_similarity(target.unsqueeze(0), model.u_embeddings.weight.data)\n",
    "most_similar = torch.argsort(similarity)[-5:]"
   ]
  },
  {
   "cell_type": "code",
   "execution_count": 39,
   "metadata": {
    "ExecuteTime": {
     "end_time": "2020-07-28T01:57:22.241941Z",
     "start_time": "2020-07-28T01:57:22.172004Z"
    }
   },
   "outputs": [
    {
     "data": {
      "image/png": "[encoded data removed]",
      "text/plain": [
       "<Figure size 432x288 with 1 Axes>"
      ]
     },
     "metadata": {
      "needs_background": "light"
     },
     "output_type": "display_data"
    }
   ],
   "source": [
    "class_mat = torch.diag(torch.ones(25))\n",
    "plt.imshow(class_mat, cmap='gray')\n",
    "plt.show()"
   ]
  },
  {
   "cell_type": "code",
   "execution_count": 61,
   "metadata": {
    "ExecuteTime": {
     "end_time": "2020-07-28T02:05:25.683244Z",
     "start_time": "2020-07-28T02:05:25.677890Z"
    }
   },
   "outputs": [],
   "source": [
    "def ClassifyByCode(embeds):\n",
    "    n, dim = embeds.shape\n",
    "    embeds = embeds.cpu()\n",
    "    class_mat = torch.diag(torch.ones(dim))\n",
    "    classes = []\n",
    "    for emb in embeds:\n",
    "        simi = torch.cosine_similarity(class_mat, emb.unsqueeze(0))\n",
    "        cla = torch.argmax(simi).item()\n",
    "        classes.append(cla)\n",
    "    return classes"
   ]
  },
  {
   "cell_type": "code",
   "execution_count": 63,
   "metadata": {
    "ExecuteTime": {
     "end_time": "2020-07-28T02:06:19.684011Z",
     "start_time": "2020-07-28T02:06:19.664522Z"
    },
    "scrolled": true
   },
   "outputs": [],
   "source": [
    "classes=ClassifyByCode(model.u_embeddings.weight.data)"
   ]
  },
  {
   "cell_type": "code",
   "execution_count": 64,
   "metadata": {
    "ExecuteTime": {
     "end_time": "2020-07-28T02:06:22.380713Z",
     "start_time": "2020-07-28T02:06:22.111448Z"
    }
   },
   "outputs": [],
   "source": [
    "from sklearn.decomposition import PCA\n",
    "from sklearn.manifold import TSNE"
   ]
  },
  {
   "cell_type": "code",
   "execution_count": 70,
   "metadata": {
    "ExecuteTime": {
     "end_time": "2020-07-28T02:10:53.765147Z",
     "start_time": "2020-07-28T02:10:53.666259Z"
    }
   },
   "outputs": [
    {
     "data": {
      "image/png": "[encoded data removed]",
      "text/plain": [
       "<Figure size 432x288 with 1 Axes>"
      ]
     },
     "metadata": {
      "needs_background": "light"
     },
     "output_type": "display_data"
    }
   ],
   "source": [
    "pca=PCA(n_components=2, random_state=0)\n",
    "pca.fit(np.array(model.u_embeddings.weight.data.cpu().tolist()).T)\n",
    "plt.plot(pca.components_[0], pca.components_[1], '.', alpha=0.2)\n",
    "plt.title('PCA of Embeddings')\n",
    "plt.show()"
   ]
  },
  {
   "cell_type": "code",
   "execution_count": 72,
   "metadata": {
    "ExecuteTime": {
     "end_time": "2020-07-28T02:11:48.379553Z",
     "start_time": "2020-07-28T02:11:47.350680Z"
    }
   },
   "outputs": [
    {
     "data": {
      "image/png": "[encoded data removed]",
      "text/plain": [
       "<Figure size 432x288 with 1 Axes>"
      ]
     },
     "metadata": {
      "needs_background": "light"
     },
     "output_type": "display_data"
    }
   ],
   "source": [
    "tsne=TSNE(n_components=2, random_state=0)\n",
    "tsne.fit(np.array(model.u_embeddings.weight.data.cpu().tolist()))\n",
    "plt.plot(tsne.embedding_.T[0], tsne.embedding_.T[1], '.', alpha=0.5)\n",
    "plt.title('TSNE of Embeddings')\n",
    "plt.show()"
   ]
  },
  {
   "cell_type": "markdown",
   "metadata": {},
   "source": [
    "# Embedding"
   ]
  },
  {
   "cell_type": "markdown",
   "metadata": {},
   "source": [
    "## With Dropout"
   ]
  },
  {
   "cell_type": "code",
   "execution_count": 86,
   "metadata": {
    "ExecuteTime": {
     "end_time": "2020-07-28T05:47:52.504171Z",
     "start_time": "2020-07-28T05:47:52.430974Z"
    }
   },
   "outputs": [
    {
     "data": {
      "image/png": "[encoded data removed]",
      "text/plain": [
       "<Figure size 432x288 with 1 Axes>"
      ]
     },
     "metadata": {
      "needs_background": "light"
     },
     "output_type": "display_data"
    }
   ],
   "source": [
    "dropout5d = torch.load('./data/word2vec_dropout/dropout/dropout_d5.pth')\n",
    "emb_dropout = dropout5d.u_embeddings.weight.data\n",
    "plt.imshow(normalize(emb_dropout[:20]))\n",
    "plt.show()"
   ]
  },
  {
   "cell_type": "code",
   "execution_count": 220,
   "metadata": {
    "ExecuteTime": {
     "end_time": "2020-07-28T06:46:38.103273Z",
     "start_time": "2020-07-28T06:46:38.092431Z"
    }
   },
   "outputs": [
    {
     "data": {
      "text/html": [
       "<div>\n",
       "<style scoped>\n",
       "    .dataframe tbody tr th:only-of-type {\n",
       "        vertical-align: middle;\n",
       "    }\n",
       "\n",
       "    .dataframe tbody tr th {\n",
       "        vertical-align: top;\n",
       "    }\n",
       "\n",
       "    .dataframe thead th {\n",
       "        text-align: right;\n",
       "    }\n",
       "</style>\n",
       "<table border=\"1\" class=\"dataframe\">\n",
       "  <thead>\n",
       "    <tr style=\"text-align: right;\">\n",
       "      <th></th>\n",
       "      <th>0</th>\n",
       "      <th>1</th>\n",
       "      <th>2</th>\n",
       "      <th>3</th>\n",
       "      <th>4</th>\n",
       "    </tr>\n",
       "  </thead>\n",
       "  <tbody>\n",
       "    <tr>\n",
       "      <th>0</th>\n",
       "      <td>butter</td>\n",
       "      <td>egg</td>\n",
       "      <td>lingonberry</td>\n",
       "      <td>raspberry</td>\n",
       "      <td>durian</td>\n",
       "    </tr>\n",
       "    <tr>\n",
       "      <th>1</th>\n",
       "      <td>milk</td>\n",
       "      <td>mutton</td>\n",
       "      <td>bergamot</td>\n",
       "      <td>strawberry</td>\n",
       "      <td>black raspberry</td>\n",
       "    </tr>\n",
       "    <tr>\n",
       "      <th>2</th>\n",
       "      <td>corn flake</td>\n",
       "      <td>lilac flower oil</td>\n",
       "      <td>black currant</td>\n",
       "      <td>gelatin</td>\n",
       "      <td>violet</td>\n",
       "    </tr>\n",
       "    <tr>\n",
       "      <th>3</th>\n",
       "      <td>cream</td>\n",
       "      <td>cassava</td>\n",
       "      <td>lilac flower oil</td>\n",
       "      <td>rum</td>\n",
       "      <td>peppermint oil</td>\n",
       "    </tr>\n",
       "    <tr>\n",
       "      <th>4</th>\n",
       "      <td>yeast</td>\n",
       "      <td>popcorn</td>\n",
       "      <td>durian</td>\n",
       "      <td>cherry</td>\n",
       "      <td>rye flour</td>\n",
       "    </tr>\n",
       "    <tr>\n",
       "      <th>5</th>\n",
       "      <td>buttermilk</td>\n",
       "      <td>balm</td>\n",
       "      <td>champagne wine</td>\n",
       "      <td>blueberry</td>\n",
       "      <td>roasted hazelnut</td>\n",
       "    </tr>\n",
       "    <tr>\n",
       "      <th>6</th>\n",
       "      <td>cream cheese</td>\n",
       "      <td>pimenta</td>\n",
       "      <td>blackberry brandy</td>\n",
       "      <td>coconut</td>\n",
       "      <td>huckleberry</td>\n",
       "    </tr>\n",
       "    <tr>\n",
       "      <th>7</th>\n",
       "      <td>wheat</td>\n",
       "      <td>roasted almond</td>\n",
       "      <td>mate</td>\n",
       "      <td>fruit</td>\n",
       "      <td>cacao</td>\n",
       "    </tr>\n",
       "    <tr>\n",
       "      <th>8</th>\n",
       "      <td>milk fat</td>\n",
       "      <td>mate</td>\n",
       "      <td>gin</td>\n",
       "      <td>peach</td>\n",
       "      <td>peppermint</td>\n",
       "    </tr>\n",
       "    <tr>\n",
       "      <th>9</th>\n",
       "      <td>lard</td>\n",
       "      <td>black raspberry</td>\n",
       "      <td>black tea</td>\n",
       "      <td>citrus</td>\n",
       "      <td>sour cherry</td>\n",
       "    </tr>\n",
       "  </tbody>\n",
       "</table>\n",
       "</div>"
      ],
      "text/plain": [
       "              0                 1                  2           3  \\\n",
       "0        butter               egg        lingonberry   raspberry   \n",
       "1          milk            mutton           bergamot  strawberry   \n",
       "2    corn flake  lilac flower oil      black currant     gelatin   \n",
       "3         cream           cassava   lilac flower oil         rum   \n",
       "4         yeast           popcorn             durian      cherry   \n",
       "5    buttermilk              balm     champagne wine   blueberry   \n",
       "6  cream cheese           pimenta  blackberry brandy     coconut   \n",
       "7         wheat    roasted almond               mate       fruit   \n",
       "8      milk fat              mate                gin       peach   \n",
       "9          lard   black raspberry          black tea      citrus   \n",
       "\n",
       "                  4  \n",
       "0            durian  \n",
       "1   black raspberry  \n",
       "2            violet  \n",
       "3    peppermint oil  \n",
       "4         rye flour  \n",
       "5  roasted hazelnut  \n",
       "6       huckleberry  \n",
       "7             cacao  \n",
       "8        peppermint  \n",
       "9       sour cherry  "
      ]
     },
     "execution_count": 220,
     "metadata": {},
     "output_type": "execute_result"
    }
   ],
   "source": [
    "top_names = {}\n",
    "for i in range(5):\n",
    "    onehot = torch.argsort(torch.cosine_similarity(emb_dropout, torch.diag(-1*torch.ones(5))[i].unsqueeze(0)))[-10:]\n",
    "    top10 = list(map(lambda x:idx2name[x.item()].replace('_', ' '), onehot))[::-1]\n",
    "    top_names[i] = top10\n",
    "\n",
    "pd.DataFrame(top_names)"
   ]
  },
  {
   "cell_type": "markdown",
   "metadata": {},
   "source": [
    "Embedding with dropout results to a more sparse coding (in terms of entropy):\n",
    "\n",
    "$$H = -\\sum_i \\hat x_i \\ln \\hat x_i,$$\n",
    "\n",
    "where $\\hat x_i = x^2_i / \\sum_j x^2_i$"
   ]
  },
  {
   "cell_type": "code",
   "execution_count": 237,
   "metadata": {
    "ExecuteTime": {
     "end_time": "2020-07-28T07:11:59.124063Z",
     "start_time": "2020-07-28T07:11:58.961396Z"
    }
   },
   "outputs": [
    {
     "data": {
      "image/png": "[encoded data removed]",
      "text/plain": [
       "<Figure size 432x288 with 1 Axes>"
      ]
     },
     "metadata": {
      "needs_background": "light"
     },
     "output_type": "display_data"
    }
   ],
   "source": [
    "plt.hist(entropy(torch.abs(normalize2(emb_dropout))), alpha=0.8, label='with dropout', color='#EE6866')\n",
    "plt.hist(entropy(torch.abs(normalize2(emb))), alpha=0.8, label='without dropout', color='#43B4D6')\n",
    "plt.title('Entropy')\n",
    "plt.legend()\n",
    "plt.savefig('./entropy.pdf')\n",
    "plt.show()"
   ]
  },
  {
   "cell_type": "code",
   "execution_count": 160,
   "metadata": {
    "ExecuteTime": {
     "end_time": "2020-07-28T06:11:08.635396Z",
     "start_time": "2020-07-28T06:11:08.630137Z"
    }
   },
   "outputs": [],
   "source": [
    "def ClassifyByCode(embeds):\n",
    "    n, dim = embeds.shape\n",
    "    embeds = embeds.cpu()\n",
    "    class_mat = torch.diag(torch.ones(dim))\n",
    "    classes = []\n",
    "    for _emb in embeds:\n",
    "        simi = torch.abs(torch.cosine_similarity(class_mat, _emb.unsqueeze(0)))\n",
    "        cla = torch.argmax(simi).item()\n",
    "        classes.append(cla)\n",
    "    return classes"
   ]
  },
  {
   "cell_type": "code",
   "execution_count": 225,
   "metadata": {
    "ExecuteTime": {
     "end_time": "2020-07-28T07:08:15.226146Z",
     "start_time": "2020-07-28T07:08:15.223749Z"
    }
   },
   "outputs": [],
   "source": [
    "normalize2 = lambda x:((x).t() / torch.sqrt(torch.sum(x**2, dim=1))).t()"
   ]
  },
  {
   "cell_type": "code",
   "execution_count": 227,
   "metadata": {
    "ExecuteTime": {
     "end_time": "2020-07-28T07:08:29.209582Z",
     "start_time": "2020-07-28T07:08:29.049011Z"
    }
   },
   "outputs": [
    {
     "data": {
      "image/png": "[encoded data removed]",
      "text/plain": [
       "<Figure size 432x288 with 1 Axes>"
      ]
     },
     "metadata": {
      "needs_background": "light"
     },
     "output_type": "display_data"
    }
   ],
   "source": [
    "classes_dropout = np.array(ClassifyByCode(emb_dropout))\n",
    "pca=PCA(n_components=2, random_state=0)\n",
    "pca.fit(np.array(normalize2(emb_dropout).tolist()).T)\n",
    "\n",
    "emb_by_class = []\n",
    "for i in range(5):\n",
    "    _emb = pca.components_.T[np.argwhere(classes_dropout == i)].reshape(-1,2)\n",
    "    emb_by_class.append(_emb)\n",
    "\n",
    "for embs,i in zip(emb_by_class, range(5)):\n",
    "    plt.plot(embs.T[0], embs.T[1], 'o', alpha=0.5, label=str(i))\n",
    "\n",
    "plt.legend()\n",
    "plt.title('With Dropout (PCA)')\n",
    "plt.savefig('./emb_dropout_PCA.pdf')\n",
    "plt.show()"
   ]
  },
  {
   "cell_type": "code",
   "execution_count": 228,
   "metadata": {
    "ExecuteTime": {
     "end_time": "2020-07-28T07:08:39.560045Z",
     "start_time": "2020-07-28T07:08:38.409434Z"
    }
   },
   "outputs": [
    {
     "data": {
      "image/png": "[encoded data removed]",
      "text/plain": [
       "<Figure size 432x288 with 1 Axes>"
      ]
     },
     "metadata": {
      "needs_background": "light"
     },
     "output_type": "display_data"
    }
   ],
   "source": [
    "classes_dropout = np.array(ClassifyByCode(emb_dropout))\n",
    "tsne=TSNE(n_components=2, random_state=0, perplexity=30)\n",
    "tsne.fit(np.array(normalize2(emb_dropout)))\n",
    "\n",
    "emb_by_class = []\n",
    "for i in range(5):\n",
    "    _emb = tsne.embedding_[np.argwhere(classes_dropout == i)].reshape(-1,2)\n",
    "    emb_by_class.append(_emb)\n",
    "\n",
    "for embs,i in zip(emb_by_class, range(5)):\n",
    "    plt.plot(embs.T[0], embs.T[1], 'o', alpha=0.5, label=str(i))\n",
    "\n",
    "plt.legend()\n",
    "plt.title('With Dropout (TSNE)')\n",
    "plt.savefig('./emb_dropout_TSNE.pdf')\n",
    "plt.show()"
   ]
  },
  {
   "cell_type": "markdown",
   "metadata": {},
   "source": [
    "## Without Dropout"
   ]
  },
  {
   "cell_type": "code",
   "execution_count": 163,
   "metadata": {
    "ExecuteTime": {
     "end_time": "2020-07-28T06:11:21.311631Z",
     "start_time": "2020-07-28T06:11:21.241814Z"
    }
   },
   "outputs": [
    {
     "data": {
      "image/png": "[encoded data removed]",
      "text/plain": [
       "<Figure size 432x288 with 1 Axes>"
      ]
     },
     "metadata": {
      "needs_background": "light"
     },
     "output_type": "display_data"
    }
   ],
   "source": [
    "nodropout5d = torch.load('./data/word2vec_dropout/no_dropout/no_dropout_d5.pth')\n",
    "emb = nodropout5d.u_embeddings.weight.data\n",
    "plt.imshow(normalize(emb[:20]))\n",
    "plt.show()"
   ]
  },
  {
   "cell_type": "code",
   "execution_count": 215,
   "metadata": {
    "ExecuteTime": {
     "end_time": "2020-07-28T06:37:05.169120Z",
     "start_time": "2020-07-28T06:37:05.158061Z"
    }
   },
   "outputs": [
    {
     "data": {
      "text/html": [
       "<div>\n",
       "<style scoped>\n",
       "    .dataframe tbody tr th:only-of-type {\n",
       "        vertical-align: middle;\n",
       "    }\n",
       "\n",
       "    .dataframe tbody tr th {\n",
       "        vertical-align: top;\n",
       "    }\n",
       "\n",
       "    .dataframe thead th {\n",
       "        text-align: right;\n",
       "    }\n",
       "</style>\n",
       "<table border=\"1\" class=\"dataframe\">\n",
       "  <thead>\n",
       "    <tr style=\"text-align: right;\">\n",
       "      <th></th>\n",
       "      <th>0</th>\n",
       "      <th>1</th>\n",
       "      <th>2</th>\n",
       "      <th>3</th>\n",
       "      <th>4</th>\n",
       "    </tr>\n",
       "  </thead>\n",
       "  <tbody>\n",
       "    <tr>\n",
       "      <th>0</th>\n",
       "      <td>cassava</td>\n",
       "      <td>cilantro</td>\n",
       "      <td>white bread</td>\n",
       "      <td>gin</td>\n",
       "      <td>shellfish</td>\n",
       "    </tr>\n",
       "    <tr>\n",
       "      <th>1</th>\n",
       "      <td>orange flower</td>\n",
       "      <td>roasted hazelnut</td>\n",
       "      <td>munster cheese</td>\n",
       "      <td>grape</td>\n",
       "      <td>ouzo</td>\n",
       "    </tr>\n",
       "    <tr>\n",
       "      <th>2</th>\n",
       "      <td>seed</td>\n",
       "      <td>avocado</td>\n",
       "      <td>bread</td>\n",
       "      <td>champagne wine</td>\n",
       "      <td>pimenta</td>\n",
       "    </tr>\n",
       "    <tr>\n",
       "      <th>3</th>\n",
       "      <td>cardamom</td>\n",
       "      <td>lettuce</td>\n",
       "      <td>chive</td>\n",
       "      <td>roasted peanut</td>\n",
       "      <td>leaf</td>\n",
       "    </tr>\n",
       "    <tr>\n",
       "      <th>4</th>\n",
       "      <td>salmon roe</td>\n",
       "      <td>sesame oil</td>\n",
       "      <td>wheat bread</td>\n",
       "      <td>papaya</td>\n",
       "      <td>durian</td>\n",
       "    </tr>\n",
       "    <tr>\n",
       "      <th>5</th>\n",
       "      <td>anise</td>\n",
       "      <td>celery oil</td>\n",
       "      <td>cottage cheese</td>\n",
       "      <td>guava</td>\n",
       "      <td>egg</td>\n",
       "    </tr>\n",
       "    <tr>\n",
       "      <th>6</th>\n",
       "      <td>lemon</td>\n",
       "      <td>soy sauce</td>\n",
       "      <td>rye bread</td>\n",
       "      <td>watermelon</td>\n",
       "      <td>brussels sprout</td>\n",
       "    </tr>\n",
       "    <tr>\n",
       "      <th>7</th>\n",
       "      <td>tangerine</td>\n",
       "      <td>cumin</td>\n",
       "      <td>jasmine tea</td>\n",
       "      <td>grapefruit</td>\n",
       "      <td>balm</td>\n",
       "    </tr>\n",
       "    <tr>\n",
       "      <th>8</th>\n",
       "      <td>plum</td>\n",
       "      <td>chickpea</td>\n",
       "      <td>chinese cabbage</td>\n",
       "      <td>tequila</td>\n",
       "      <td>jasmine</td>\n",
       "    </tr>\n",
       "    <tr>\n",
       "      <th>9</th>\n",
       "      <td>elderberry</td>\n",
       "      <td>radish</td>\n",
       "      <td>potato chip</td>\n",
       "      <td>wine</td>\n",
       "      <td>squid</td>\n",
       "    </tr>\n",
       "  </tbody>\n",
       "</table>\n",
       "</div>"
      ],
      "text/plain": [
       "               0                 1                2               3  \\\n",
       "0        cassava          cilantro      white bread             gin   \n",
       "1  orange flower  roasted hazelnut   munster cheese           grape   \n",
       "2           seed           avocado            bread  champagne wine   \n",
       "3       cardamom           lettuce            chive  roasted peanut   \n",
       "4     salmon roe        sesame oil      wheat bread          papaya   \n",
       "5          anise        celery oil   cottage cheese           guava   \n",
       "6          lemon         soy sauce        rye bread      watermelon   \n",
       "7      tangerine             cumin      jasmine tea      grapefruit   \n",
       "8           plum          chickpea  chinese cabbage         tequila   \n",
       "9     elderberry            radish      potato chip            wine   \n",
       "\n",
       "                 4  \n",
       "0        shellfish  \n",
       "1             ouzo  \n",
       "2          pimenta  \n",
       "3             leaf  \n",
       "4           durian  \n",
       "5              egg  \n",
       "6  brussels sprout  \n",
       "7             balm  \n",
       "8          jasmine  \n",
       "9            squid  "
      ]
     },
     "execution_count": 215,
     "metadata": {},
     "output_type": "execute_result"
    }
   ],
   "source": [
    "top_names = {}\n",
    "for i in range(5):\n",
    "    onehot = torch.argsort(torch.abs(torch.cosine_similarity(emb, torch.diag(torch.ones(5))[i].unsqueeze(0))))[-10:]\n",
    "    top10 = list(map(lambda x:idx2name[x.item()].replace('_', ' '), onehot))[::-1]\n",
    "    top_names[i] = top10\n",
    "\n",
    "pd.DataFrame(top_names)"
   ]
  },
  {
   "cell_type": "code",
   "execution_count": 229,
   "metadata": {
    "ExecuteTime": {
     "end_time": "2020-07-28T07:09:09.617389Z",
     "start_time": "2020-07-28T07:09:09.436235Z"
    }
   },
   "outputs": [
    {
     "data": {
      "image/png": "[encoded data removed]",
      "text/plain": [
       "<Figure size 432x288 with 1 Axes>"
      ]
     },
     "metadata": {
      "needs_background": "light"
     },
     "output_type": "display_data"
    }
   ],
   "source": [
    "classes_dropout = np.array(ClassifyByCode(emb))\n",
    "pca=PCA(n_components=2, random_state=0)\n",
    "pca.fit(np.array(normalize2(emb).tolist()).T)\n",
    "\n",
    "emb_by_class = []\n",
    "for i in range(5):\n",
    "    _emb = pca.components_.T[np.argwhere(classes_dropout == i)].reshape(-1,2)\n",
    "    emb_by_class.append(_emb)\n",
    "\n",
    "for embs,i in zip(emb_by_class, range(5)):\n",
    "    plt.plot(embs.T[0], embs.T[1], 'o', alpha=0.5, label=str(i))\n",
    "\n",
    "plt.legend()\n",
    "plt.title('Without Dropout (PCA)')\n",
    "plt.savefig('./emb_no_dropout_PCA.pdf')\n",
    "plt.show()"
   ]
  },
  {
   "cell_type": "code",
   "execution_count": 230,
   "metadata": {
    "ExecuteTime": {
     "end_time": "2020-07-28T07:09:37.628486Z",
     "start_time": "2020-07-28T07:09:36.504686Z"
    }
   },
   "outputs": [
    {
     "data": {
      "image/png": "[encoded data removed]",
      "text/plain": [
       "<Figure size 432x288 with 1 Axes>"
      ]
     },
     "metadata": {
      "needs_background": "light"
     },
     "output_type": "display_data"
    }
   ],
   "source": [
    "classes_dropout = np.array(ClassifyByCode(emb))\n",
    "tsne=TSNE(n_components=2, random_state=0, perplexity=30)\n",
    "tsne.fit(np.array(normalize2(emb).tolist()))\n",
    "\n",
    "emb_by_class = []\n",
    "for i in range(5):\n",
    "    _emb = tsne.embedding_[np.argwhere(classes_dropout == i)].reshape(-1,2)\n",
    "    emb_by_class.append(_emb)\n",
    "\n",
    "for embs,i in zip(emb_by_class, range(5)):\n",
    "    plt.plot(embs.T[0], embs.T[1], 'o', alpha=0.5, label=str(i))\n",
    "\n",
    "plt.legend()\n",
    "plt.title('Without Dropout (TSNE)')\n",
    "plt.savefig('./emb_no_dropout_TSNE.pdf')\n",
    "plt.show()"
   ]
  },
  {
   "cell_type": "code",
   "execution_count": null,
   "metadata": {
    "ExecuteTime": {
     "start_time": "2020-07-28T17:55:56.819Z"
    }
   },
   "outputs": [],
   "source": [
    "classes_dropout = np.array(ClassifyByCode(emb))\n",
    "tsne=TSNE(n_components=2, random_state=0, perplexity=30)\n",
    "tsne.fit(np.array(normalize2(emb).tolist()))\n",
    "\n",
    "emb_by_class = []\n",
    "for i in range(5):\n",
    "    _emb = tsne.embedding_[np.argwhere(classes_dropout == i)].reshape(-1,2)\n",
    "    emb_by_class.append(_emb)\n",
    "\n",
    "for embs,i in zip(emb_by_class, range(5)):\n",
    "    plt.plot(embs.T[0], embs.T[1], 'o', alpha=0.5, label=str(i))\n",
    "\n",
    "plt.legend()\n",
    "plt.title('Without Dropout (TSNE)')\n",
    "plt.savefig('./emb_no_dropout_TSNE.pdf')\n",
    "plt.show()"
   ]
  },
  {
   "cell_type": "code",
   "execution_count": null,
   "metadata": {},
   "outputs": [],
   "source": []
  }
 ],
 "metadata": {
  "kernelspec": {
   "display_name": "Python 3",
   "language": "python",
   "name": "python3"
  },
  "language_info": {
   "codemirror_mode": {
    "name": "ipython",
    "version": 3
   },
   "file_extension": ".py",
   "mimetype": "text/x-python",
   "name": "python",
   "nbconvert_exporter": "python",
   "pygments_lexer": "ipython3",
   "version": "3.7.5"
  },
  "toc": {
   "base_numbering": 1,
   "nav_menu": {},
   "number_sections": true,
   "sideBar": true,
   "skip_h1_title": false,
   "title_cell": "Table of Contents",
   "title_sidebar": "Contents",
   "toc_cell": false,
   "toc_position": {},
   "toc_section_display": true,
   "toc_window_display": true
  }
 },
 "nbformat": 4,
 "nbformat_minor": 2
}
