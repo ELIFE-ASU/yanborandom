{
 "cells": [
  {
   "cell_type": "code",
   "execution_count": 77,
   "metadata": {
    "ExecuteTime": {
     "end_time": "2020-07-06T18:08:40.133885Z",
     "start_time": "2020-07-06T18:08:39.764474Z"
    },
    "collapsed": true
   },
   "outputs": [],
   "source": [
    "import numpy as np\n",
    "import random\n",
    "\n",
    "import torch\n",
    "import torch.nn as nn\n",
    "import torch.nn.functional as F\n",
    "import torch.utils.data as data\n",
    "import torch.optim as optim\n",
    "\n",
    "import matplotlib.pyplot as plt\n",
    "%matplotlib inline"
   ]
  },
  {
   "cell_type": "markdown",
   "metadata": {},
   "source": [
    "# Dataset"
   ]
  },
  {
   "cell_type": "code",
   "execution_count": 108,
   "metadata": {
    "ExecuteTime": {
     "end_time": "2020-07-06T18:15:42.460447Z",
     "start_time": "2020-07-06T18:15:42.445423Z"
    },
    "collapsed": true
   },
   "outputs": [],
   "source": [
    "class number(data.Dataset):\n",
    "\n",
    "    def __init__(self, negsize=2):\n",
    "        super(number, self).__init__()\n",
    "        num = 20\n",
    "        self.length = num - 1\n",
    "        self.negsize = negsize\n",
    "        \n",
    "    def __getitem__(self, index):\n",
    "        neg = torch.randint(low=0, high=self.length, size=(self.negsize,))\n",
    "        \n",
    "        return torch.LongTensor([index]), torch.LongTensor([index+1]), neg\n",
    "        \n",
    "    def __len__(self):\n",
    "        return self.length"
   ]
  },
  {
   "cell_type": "code",
   "execution_count": 163,
   "metadata": {
    "ExecuteTime": {
     "end_time": "2020-07-06T18:59:31.133279Z",
     "start_time": "2020-07-06T18:59:31.108148Z"
    },
    "collapsed": true
   },
   "outputs": [],
   "source": [
    "class number2(data.Dataset):\n",
    "\n",
    "    def __init__(self, negsize=2):\n",
    "        super(number2, self).__init__()\n",
    "        self.raw = torch.LongTensor([[0,1],[1,0],\n",
    "                                     [1,2],[2,1],\n",
    "                                     [0,2],[2,0],\n",
    "                                     \n",
    "                                     [3,4],[4,3],\n",
    "                                     [4,5],[5,4],\n",
    "                                     [5,3],[3,5],\n",
    "                                     \n",
    "                                     [0,3],[3,0]\n",
    "                                    ])\n",
    "        self.length = len(self.raw)\n",
    "        self.negsize = negsize\n",
    "        \n",
    "    def __getitem__(self, index):\n",
    "        neg = torch.randint(low=0, high=6, size=(self.negsize,))\n",
    "        p_u, p_v = self.raw[index]\n",
    "        \n",
    "        return p_u, p_v, neg\n",
    "        \n",
    "    def __len__(self):\n",
    "        return self.length"
   ]
  },
  {
   "cell_type": "code",
   "execution_count": 164,
   "metadata": {
    "ExecuteTime": {
     "end_time": "2020-07-06T18:59:32.024792Z",
     "start_time": "2020-07-06T18:59:32.016898Z"
    }
   },
   "outputs": [
    {
     "data": {
      "text/plain": [
       "[tensor([0, 1, 1, 2, 0, 2]), tensor([1, 0, 2, 1, 2, 0]), tensor([[5, 3],\n",
       "         [3, 3],\n",
       "         [5, 4],\n",
       "         [3, 4],\n",
       "         [3, 1],\n",
       "         [3, 3]])]"
      ]
     },
     "execution_count": 164,
     "metadata": {},
     "output_type": "execute_result"
    }
   ],
   "source": [
    "dataset = number2()\n",
    "training_data = data.DataLoader(dataset, batch_size=6)\n",
    "\n",
    "# 测试dataloader:\n",
    "next(iter(training_data))"
   ]
  },
  {
   "cell_type": "markdown",
   "metadata": {},
   "source": [
    "# Model"
   ]
  },
  {
   "cell_type": "code",
   "execution_count": 188,
   "metadata": {
    "ExecuteTime": {
     "end_time": "2020-07-06T19:13:19.816557Z",
     "start_time": "2020-07-06T19:13:19.730335Z"
    },
    "collapsed": true
   },
   "outputs": [],
   "source": [
    "class skipgram(nn.Module):\n",
    "    def __init__(self, vocab_size, embedding_dim):\n",
    "        super(skipgram, self).__init__()\n",
    "        self.u_embeddings = nn.Embedding(vocab_size, embedding_dim, sparse=True)\n",
    "        self.v_embeddings = nn.Embedding(vocab_size, embedding_dim, sparse=True)\n",
    "        self.dropout = nn.Dropout(p=0.5)\n",
    "\n",
    "        self.embedding_dim = embedding_dim\n",
    "        self.init_emb()\n",
    "    def init_emb(self):\n",
    "        initrange = 0.5 / self.embedding_dim\n",
    "        self.u_embeddings.weight.data.uniform_(-initrange, initrange)\n",
    "        self.v_embeddings.weight.data.uniform_(-0, 0)\n",
    "    def forward(self, u_pos, v_pos, v_neg, batch_size):\n",
    "        '''\n",
    "        input shape:\n",
    "            u_pos, v_pos: [n x 1]\n",
    "            v_neg: [n x neg_size]\n",
    "        '''\n",
    "        embed_u = self.u_embeddings(u_pos)\n",
    "        embed_v = self.v_embeddings(v_pos)\n",
    "        \n",
    "        embed_v = self.dropout(embed_v)\n",
    "\n",
    "        score = torch.mul(embed_u, embed_v)\n",
    "        score = torch.sum(score, dim=1)\n",
    "        log_target = F.logsigmoid(score).squeeze()\n",
    "\n",
    "        neg_embed_v = self.v_embeddings(v_neg)\n",
    "\n",
    "        neg_score = torch.bmm(neg_embed_v, embed_u.unsqueeze(2)).squeeze()\n",
    "        neg_score = torch.sum(neg_score, dim=1)\n",
    "        sum_log_sampled = F.logsigmoid(-1*neg_score).squeeze()\n",
    "\n",
    "\n",
    "        loss = log_target + sum_log_sampled\n",
    "\n",
    "        return -1*loss.sum()/batch_size\n",
    "    def input_embeddings(self):\n",
    "        return self.u_embeddings.weight.data.cpu().numpy()\n",
    "    def save_embedding(self, file_name, id2word):\n",
    "        embeds = self.u_embeddings.weight.data\n",
    "        fo = open(file_name, 'w')\n",
    "        for idx in range(len(embeds)):\n",
    "            word = id2word(idx)\n",
    "            embed = ' '.join(embeds[idx])\n",
    "            fo.write(word+' '+embed+'\\n')"
   ]
  },
  {
   "cell_type": "code",
   "execution_count": 189,
   "metadata": {
    "ExecuteTime": {
     "end_time": "2020-07-06T19:13:20.621818Z",
     "start_time": "2020-07-06T19:13:20.609631Z"
    }
   },
   "outputs": [
    {
     "data": {
      "text/plain": [
       "tensor(1.3863, grad_fn=<DivBackward0>)"
      ]
     },
     "execution_count": 189,
     "metadata": {},
     "output_type": "execute_result"
    }
   ],
   "source": [
    "u_p, v_p, v_n = next(iter(training_data))\n",
    "u_p = u_p.reshape(-1)\n",
    "v_p = v_p.reshape(-1)\n",
    "skipgram(20, 2)(u_p, v_p, v_n, batch_size=len(v_p))"
   ]
  },
  {
   "cell_type": "markdown",
   "metadata": {},
   "source": [
    "# Training"
   ]
  },
  {
   "cell_type": "code",
   "execution_count": 190,
   "metadata": {
    "ExecuteTime": {
     "end_time": "2020-07-06T19:14:05.814627Z",
     "start_time": "2020-07-06T19:13:21.764948Z"
    },
    "scrolled": false
   },
   "outputs": [
    {
     "name": "stdout",
     "output_type": "stream",
     "text": [
      "loss: 1.1349606980477367\n",
      "loss: 1.0773908503435634\n",
      "loss: 1.072390920362315\n",
      "loss: 1.0670971357309305\n",
      "loss: 1.0556765855984525\n",
      "loss: 1.0721709903654035\n",
      "loss: 1.062762530954989\n",
      "loss: 1.0652088533203166\n",
      "loss: 1.0605494563166682\n",
      "loss: 1.0481547446953166\n",
      "loss: 1.0552170421626117\n",
      "loss: 1.0645705094268252\n",
      "loss: 1.06305179729297\n",
      "loss: 1.044949218839616\n",
      "loss: 1.052975415631577\n",
      "loss: 1.0551497175081357\n",
      "loss: 1.0651644299606662\n",
      "loss: 1.0624034022380997\n",
      "loss: 1.058093445347594\n",
      "loss: 1.051441325618698\n",
      "loss: 1.0615503614520405\n",
      "loss: 1.0439354025118344\n",
      "loss: 1.045026846602932\n",
      "loss: 1.0479772960370008\n",
      "loss: 1.0651363697764393\n",
      "loss: 1.0565986213786107\n",
      "loss: 1.0620474960800406\n",
      "loss: 1.0381571002998151\n",
      "loss: 1.0621206762494746\n",
      "loss: 1.0645026771633237\n"
     ]
    }
   ],
   "source": [
    "batch_size = 6\n",
    "epco = 10000\n",
    "\n",
    "net = skipgram(6, 2)\n",
    "optimizer = optim.SGD(net.parameters(), lr=0.2)\n",
    "\n",
    "dataset = number2()\n",
    "training_data = data.DataLoader(dataset, batch_size=batch_size)\n",
    "\n",
    "print_dt = int((len(training_data) / batch_size) / 0.1 * epco) # print 10 points\n",
    "save_dt = max(1, int((512 / batch_size) / 100)) # save 100 points for each epch\n",
    "print_dt = epco / 10\n",
    "\n",
    "loss_count = 0.0\n",
    "loss_count_save = 0.0\n",
    "k = 0\n",
    "k_s = 0\n",
    "loss_list = []\n",
    "ratio=1\n",
    "\n",
    "for i in range(epco):\n",
    "    ke = 0\n",
    "    for pos_u, pos_v, neg_v in training_data:\n",
    "        pos_u, pos_v = pos_u.reshape(-1), pos_v.reshape(-1)\n",
    "        \n",
    "        optimizer.zero_grad()\n",
    "        \n",
    "        loss = net(pos_u, pos_v, neg_v, len(pos_u))\n",
    "        loss_count += loss.item()\n",
    "        loss_count_save += loss.item()\n",
    "        k += 1\n",
    "        k_s += 1\n",
    "        \n",
    "        loss.backward()\n",
    "        optimizer.step()\n",
    "        if (k + 1) % print_dt == 0:\n",
    "            print(f'loss: {loss_count / k}')\n",
    "            loss_count = 0\n",
    "            k = 0\n",
    "    loss_list.append(loss_count_save / k_s)\n",
    "    loss_count_save = 0.0\n",
    "    k_s = 0"
   ]
  },
  {
   "cell_type": "code",
   "execution_count": 187,
   "metadata": {
    "ExecuteTime": {
     "end_time": "2020-07-06T19:13:08.505236Z",
     "start_time": "2020-07-06T19:13:08.353716Z"
    }
   },
   "outputs": [
    {
     "data": {
      "image/png": "[encoded data removed]",
      "text/plain": [
       "<matplotlib.figure.Figure at 0x7f8fd4bd8208>"
      ]
     },
     "metadata": {},
     "output_type": "display_data"
    }
   ],
   "source": [
    "x,y=np.array(net.v_embeddings.weight.data.tolist()).T\n",
    "\n",
    "plt.plot(x[:3], y[:3], 'o-')\n",
    "plt.plot(x[3:], y[3:], 'o-')\n",
    "plt.plot(x[2:4], y[2:4], 'o-')\n",
    "\n",
    "plt.show()"
   ]
  },
  {
   "cell_type": "code",
   "execution_count": 186,
   "metadata": {
    "ExecuteTime": {
     "end_time": "2020-07-06T19:13:03.965793Z",
     "start_time": "2020-07-06T19:13:03.787769Z"
    }
   },
   "outputs": [
    {
     "data": {
      "image/png": "[encoded data removed]",
      "text/plain": [
       "<matplotlib.figure.Figure at 0x7f8fd4bd8550>"
      ]
     },
     "metadata": {},
     "output_type": "display_data"
    }
   ],
   "source": [
    "emb_mat=np.array(net.v_embeddings.weight.data.tolist())\n",
    "emb_mat = np.abs(emb_mat) / np.sum(emb_mat ** 2, axis=1).reshape(-1,1)\n",
    "\n",
    "fig, ax = plt.subplots(1,1)\n",
    "img = ax.imshow(emb_mat)\n",
    "y_label_list = ['A1', 'B1', 'C1', 'A2', 'B2', 'C2']\n",
    "ax.set_yticks([0,1,2,3,4,5])\n",
    "ax.set_yticklabels(y_label_list)\n",
    "plt.show()"
   ]
  },
  {
   "cell_type": "code",
   "execution_count": 191,
   "metadata": {
    "ExecuteTime": {
     "end_time": "2020-07-06T19:14:10.061910Z",
     "start_time": "2020-07-06T19:14:09.897473Z"
    }
   },
   "outputs": [
    {
     "data": {
      "image/png": "[encoded data removed]",
      "text/plain": [
       "<matplotlib.figure.Figure at 0x7f8fd8cc1908>"
      ]
     },
     "metadata": {},
     "output_type": "display_data"
    }
   ],
   "source": [
    "x,y=np.array(net.v_embeddings.weight.data.tolist()).T\n",
    "\n",
    "plt.plot(x[:3], y[:3], 'o-')\n",
    "plt.plot(x[3:], y[3:], 'o-')\n",
    "plt.plot(x[2:4], y[2:4], 'o-')\n",
    "\n",
    "plt.show()"
   ]
  },
  {
   "cell_type": "code",
   "execution_count": 194,
   "metadata": {
    "ExecuteTime": {
     "end_time": "2020-07-06T19:14:31.243835Z",
     "start_time": "2020-07-06T19:14:31.139242Z"
    }
   },
   "outputs": [
    {
     "data": {
      "image/png": "[encoded data removed]",
      "text/plain": [
       "<matplotlib.figure.Figure at 0x7f8fd8bb2978>"
      ]
     },
     "metadata": {},
     "output_type": "display_data"
    }
   ],
   "source": [
    "emb_mat=np.array(net.v_embeddings.weight.data.tolist())\n",
    "emb_mat = np.abs(emb_mat) / np.sum(emb_mat ** 2, axis=1).reshape(-1,1)\n",
    "\n",
    "fig, ax = plt.subplots(1,1)\n",
    "img = ax.imshow(emb_mat)\n",
    "y_label_list = ['A1', 'B1', 'C1', 'A2', 'B2', 'C2']\n",
    "ax.set_yticks([0,1,2,3,4,5])\n",
    "ax.set_yticklabels(y_label_list)\n",
    "plt.show()"
   ]
  },
  {
   "cell_type": "code",
   "execution_count": 159,
   "metadata": {
    "ExecuteTime": {
     "end_time": "2020-07-06T18:43:53.057840Z",
     "start_time": "2020-07-06T18:43:52.950740Z"
    }
   },
   "outputs": [
    {
     "data": {
      "image/png": "[encoded data removed]",
      "text/plain": [
       "<matplotlib.figure.Figure at 0x7f8fd7768a90>"
      ]
     },
     "metadata": {},
     "output_type": "display_data"
    }
   ],
   "source": [
    "emb_mat=np.array(net.u_embeddings.weight.data.tolist())\n",
    "\n",
    "fig, ax = plt.subplots(1,1)\n",
    "img = ax.imshow(emb_mat)\n",
    "y_label_list = ['A1', 'B1', 'C1', 'A2', 'B2', 'C2']\n",
    "ax.set_yticks([0,1,2,3,4,5])\n",
    "ax.set_yticklabels(y_label_list)\n",
    "plt.show()"
   ]
  },
  {
   "cell_type": "code",
   "execution_count": null,
   "metadata": {
    "collapsed": true
   },
   "outputs": [],
   "source": []
  }
 ],
 "metadata": {
  "kernelspec": {
   "display_name": "Python 3",
   "language": "python",
   "name": "python3"
  },
  "language_info": {
   "codemirror_mode": {
    "name": "ipython",
    "version": 3
   },
   "file_extension": ".py",
   "mimetype": "text/x-python",
   "name": "python",
   "nbconvert_exporter": "python",
   "pygments_lexer": "ipython3",
   "version": "3.6.7"
  },
  "toc": {
   "base_numbering": 1,
   "nav_menu": {},
   "number_sections": true,
   "sideBar": true,
   "skip_h1_title": false,
   "title_cell": "Table of Contents",
   "title_sidebar": "Contents",
   "toc_cell": false,
   "toc_position": {
    "height": "calc(100% - 180px)",
    "left": "10px",
    "top": "150px",
    "width": "292px"
   },
   "toc_section_display": true,
   "toc_window_display": true
  }
 },
 "nbformat": 4,
 "nbformat_minor": 2
}
